{
  "cells": [
    {
      "cell_type": "markdown",
      "id": "df0d234f-1e1a-4495-8208-e177e7f527aa",
      "metadata": {
        "id": "df0d234f-1e1a-4495-8208-e177e7f527aa"
      },
      "source": [
        "Complete the exercises below For **Assignment #13**."
      ]
    },
    {
      "cell_type": "markdown",
      "id": "99d3796a-5167-4b91-b01b-d07279d2c0ce",
      "metadata": {
        "id": "99d3796a-5167-4b91-b01b-d07279d2c0ce"
      },
      "source": [
        "Load the `ISLR2` and the `tidymodels` packages."
      ]
    },
    {
      "cell_type": "code",
      "execution_count": 1,
      "id": "0ddb641e-0631-4834-ab73-22505fd2631a",
      "metadata": {
        "id": "0ddb641e-0631-4834-ab73-22505fd2631a",
        "colab": {
          "base_uri": "https://localhost:8080/"
        },
        "outputId": "115ff217-dfd3-47c7-8d6d-7163cb0c2fe6"
      },
      "outputs": [
        {
          "output_type": "stream",
          "name": "stderr",
          "text": [
            "Installing package into ‘/usr/local/lib/R/site-library’\n",
            "(as ‘lib’ is unspecified)\n",
            "\n",
            "Installing package into ‘/usr/local/lib/R/site-library’\n",
            "(as ‘lib’ is unspecified)\n",
            "\n",
            "also installing the dependencies ‘shape’, ‘numDeriv’, ‘progressr’, ‘SQUAREM’, ‘diagram’, ‘lava’, ‘prodlim’, ‘warp’, ‘future.apply’, ‘iterators’, ‘listenv’, ‘parallelly’, ‘lhs’, ‘DiceDesign’, ‘sfd’, ‘sparsevctrs’, ‘patchwork’, ‘globals’, ‘clock’, ‘gower’, ‘ipred’, ‘timeDate’, ‘furrr’, ‘slider’, ‘doFuture’, ‘foreach’, ‘future’, ‘GPfit’, ‘modelenv’, ‘dials’, ‘hardhat’, ‘infer’, ‘modeldata’, ‘parsnip’, ‘recipes’, ‘rsample’, ‘tune’, ‘workflows’, ‘workflowsets’, ‘yardstick’\n",
            "\n",
            "\n"
          ]
        }
      ],
      "source": [
        "install.packages(\"ISLR2\")\n",
        "install.packages(\"tidymodels\")"
      ]
    },
    {
      "cell_type": "code",
      "source": [
        "library(\"ISLR2\")\n",
        "library(\"tidymodels\")"
      ],
      "metadata": {
        "id": "eYtQ1MhyozU1",
        "colab": {
          "base_uri": "https://localhost:8080/"
        },
        "outputId": "4b9b2c4f-3867-488a-cd76-8df3f71e94df"
      },
      "id": "eYtQ1MhyozU1",
      "execution_count": 2,
      "outputs": [
        {
          "output_type": "stream",
          "name": "stderr",
          "text": [
            "── \u001b[1mAttaching packages\u001b[22m ────────────────────────────────────── tidymodels 1.3.0 ──\n",
            "\n",
            "\u001b[32m✔\u001b[39m \u001b[34mbroom       \u001b[39m 1.0.8     \u001b[32m✔\u001b[39m \u001b[34mrecipes     \u001b[39m 1.3.1\n",
            "\u001b[32m✔\u001b[39m \u001b[34mdials       \u001b[39m 1.4.1     \u001b[32m✔\u001b[39m \u001b[34mrsample     \u001b[39m 1.3.1\n",
            "\u001b[32m✔\u001b[39m \u001b[34mdplyr       \u001b[39m 1.1.4     \u001b[32m✔\u001b[39m \u001b[34mtibble      \u001b[39m 3.3.0\n",
            "\u001b[32m✔\u001b[39m \u001b[34mggplot2     \u001b[39m 3.5.2     \u001b[32m✔\u001b[39m \u001b[34mtidyr       \u001b[39m 1.3.1\n",
            "\u001b[32m✔\u001b[39m \u001b[34minfer       \u001b[39m 1.0.9     \u001b[32m✔\u001b[39m \u001b[34mtune        \u001b[39m 1.3.0\n",
            "\u001b[32m✔\u001b[39m \u001b[34mmodeldata   \u001b[39m 1.5.0     \u001b[32m✔\u001b[39m \u001b[34mworkflows   \u001b[39m 1.2.0\n",
            "\u001b[32m✔\u001b[39m \u001b[34mparsnip     \u001b[39m 1.3.2     \u001b[32m✔\u001b[39m \u001b[34mworkflowsets\u001b[39m 1.1.1\n",
            "\u001b[32m✔\u001b[39m \u001b[34mpurrr       \u001b[39m 1.1.0     \u001b[32m✔\u001b[39m \u001b[34myardstick   \u001b[39m 1.3.2\n",
            "\n",
            "── \u001b[1mConflicts\u001b[22m ───────────────────────────────────────── tidymodels_conflicts() ──\n",
            "\u001b[31m✖\u001b[39m \u001b[34mpurrr\u001b[39m::\u001b[32mdiscard()\u001b[39m masks \u001b[34mscales\u001b[39m::discard()\n",
            "\u001b[31m✖\u001b[39m \u001b[34mdplyr\u001b[39m::\u001b[32mfilter()\u001b[39m  masks \u001b[34mstats\u001b[39m::filter()\n",
            "\u001b[31m✖\u001b[39m \u001b[34mdplyr\u001b[39m::\u001b[32mlag()\u001b[39m     masks \u001b[34mstats\u001b[39m::lag()\n",
            "\u001b[31m✖\u001b[39m \u001b[34mrecipes\u001b[39m::\u001b[32mstep()\u001b[39m  masks \u001b[34mstats\u001b[39m::step()\n",
            "\n"
          ]
        }
      ]
    },
    {
      "cell_type": "markdown",
      "id": "8faea7c9-123f-4664-bb30-7e4c3c864255",
      "metadata": {
        "id": "8faea7c9-123f-4664-bb30-7e4c3c864255"
      },
      "source": [
        "In this assignment we will use the `Default` dataset which includes the default status for credit card customers (`default` variable) in addition to each customer's:\n",
        "\n",
        "1. credit card balance (`balance` variable),\n",
        "1. student status (`student` variable), and,\n",
        "1. income (`income` variable)."
      ]
    },
    {
      "cell_type": "code",
      "execution_count": 27,
      "id": "0b0c3ba0-d37c-42bc-a46d-cbc614d72484",
      "metadata": {
        "id": "0b0c3ba0-d37c-42bc-a46d-cbc614d72484",
        "colab": {
          "base_uri": "https://localhost:8080/",
          "height": 286
        },
        "outputId": "2b25e32b-6649-4809-81c8-dbc007bb7748"
      },
      "outputs": [
        {
          "output_type": "display_data",
          "data": {
            "text/html": [
              "<table class=\"dataframe\">\n",
              "<caption>A data.frame: 6 × 4</caption>\n",
              "<thead>\n",
              "\t<tr><th></th><th scope=col>default</th><th scope=col>student</th><th scope=col>balance</th><th scope=col>income</th></tr>\n",
              "\t<tr><th></th><th scope=col>&lt;fct&gt;</th><th scope=col>&lt;fct&gt;</th><th scope=col>&lt;dbl&gt;</th><th scope=col>&lt;dbl&gt;</th></tr>\n",
              "</thead>\n",
              "<tbody>\n",
              "\t<tr><th scope=row>1</th><td>No</td><td>No </td><td> 729.5265</td><td>44361.625</td></tr>\n",
              "\t<tr><th scope=row>2</th><td>No</td><td>Yes</td><td> 817.1804</td><td>12106.135</td></tr>\n",
              "\t<tr><th scope=row>3</th><td>No</td><td>No </td><td>1073.5492</td><td>31767.139</td></tr>\n",
              "\t<tr><th scope=row>4</th><td>No</td><td>No </td><td> 529.2506</td><td>35704.494</td></tr>\n",
              "\t<tr><th scope=row>5</th><td>No</td><td>No </td><td> 785.6559</td><td>38463.496</td></tr>\n",
              "\t<tr><th scope=row>6</th><td>No</td><td>Yes</td><td> 919.5885</td><td> 7491.559</td></tr>\n",
              "</tbody>\n",
              "</table>\n"
            ],
            "text/markdown": "\nA data.frame: 6 × 4\n\n| <!--/--> | default &lt;fct&gt; | student &lt;fct&gt; | balance &lt;dbl&gt; | income &lt;dbl&gt; |\n|---|---|---|---|---|\n| 1 | No | No  |  729.5265 | 44361.625 |\n| 2 | No | Yes |  817.1804 | 12106.135 |\n| 3 | No | No  | 1073.5492 | 31767.139 |\n| 4 | No | No  |  529.2506 | 35704.494 |\n| 5 | No | No  |  785.6559 | 38463.496 |\n| 6 | No | Yes |  919.5885 |  7491.559 |\n\n",
            "text/latex": "A data.frame: 6 × 4\n\\begin{tabular}{r|llll}\n  & default & student & balance & income\\\\\n  & <fct> & <fct> & <dbl> & <dbl>\\\\\n\\hline\n\t1 & No & No  &  729.5265 & 44361.625\\\\\n\t2 & No & Yes &  817.1804 & 12106.135\\\\\n\t3 & No & No  & 1073.5492 & 31767.139\\\\\n\t4 & No & No  &  529.2506 & 35704.494\\\\\n\t5 & No & No  &  785.6559 & 38463.496\\\\\n\t6 & No & Yes &  919.5885 &  7491.559\\\\\n\\end{tabular}\n",
            "text/plain": [
              "  default student balance   income   \n",
              "1 No      No       729.5265 44361.625\n",
              "2 No      Yes      817.1804 12106.135\n",
              "3 No      No      1073.5492 31767.139\n",
              "4 No      No       529.2506 35704.494\n",
              "5 No      No       785.6559 38463.496\n",
              "6 No      Yes      919.5885  7491.559"
            ]
          },
          "metadata": {}
        }
      ],
      "source": [
        "Default |> head()"
      ]
    },
    {
      "cell_type": "markdown",
      "id": "d77d04d6-6882-44c3-8658-7fec6c73ac4e",
      "metadata": {
        "id": "d77d04d6-6882-44c3-8658-7fec6c73ac4e"
      },
      "source": [
        "We will be modeling `default` with the customer features.\n",
        "\n",
        "Before we begin let's count how many customers fall into each `default` category."
      ]
    },
    {
      "cell_type": "code",
      "execution_count": 28,
      "id": "45716b9b-22d9-4731-b8fe-c4f1fdb5e66f",
      "metadata": {
        "id": "45716b9b-22d9-4731-b8fe-c4f1fdb5e66f",
        "colab": {
          "base_uri": "https://localhost:8080/",
          "height": 160
        },
        "outputId": "0051bd91-04d2-406d-be3a-ddbf30bafba5"
      },
      "outputs": [
        {
          "output_type": "display_data",
          "data": {
            "text/html": [
              "<table class=\"dataframe\">\n",
              "<caption>A data.frame: 2 × 2</caption>\n",
              "<thead>\n",
              "\t<tr><th scope=col>default</th><th scope=col>n</th></tr>\n",
              "\t<tr><th scope=col>&lt;fct&gt;</th><th scope=col>&lt;int&gt;</th></tr>\n",
              "</thead>\n",
              "<tbody>\n",
              "\t<tr><td>No </td><td>9667</td></tr>\n",
              "\t<tr><td>Yes</td><td> 333</td></tr>\n",
              "</tbody>\n",
              "</table>\n"
            ],
            "text/markdown": "\nA data.frame: 2 × 2\n\n| default &lt;fct&gt; | n &lt;int&gt; |\n|---|---|\n| No  | 9667 |\n| Yes |  333 |\n\n",
            "text/latex": "A data.frame: 2 × 2\n\\begin{tabular}{ll}\n default & n\\\\\n <fct> & <int>\\\\\n\\hline\n\t No  & 9667\\\\\n\t Yes &  333\\\\\n\\end{tabular}\n",
            "text/plain": [
              "  default n   \n",
              "1 No      9667\n",
              "2 Yes      333"
            ]
          },
          "metadata": {}
        }
      ],
      "source": [
        "Default |> count(default)\n",
        "\n",
        "# there are 9667 customers who did not default compared to 333 who did."
      ]
    },
    {
      "cell_type": "markdown",
      "id": "386b40ff-ab7e-4c72-baff-3cd3e2f78157",
      "metadata": {
        "id": "386b40ff-ab7e-4c72-baff-3cd3e2f78157"
      },
      "source": [
        "The data is quite imbalanced. This will be important to keep in mind when we evaluate the performance of our model later."
      ]
    },
    {
      "cell_type": "markdown",
      "id": "f84af2a1-24e6-43d8-8e22-0a93ca3a01d4",
      "metadata": {
        "id": "f84af2a1-24e6-43d8-8e22-0a93ca3a01d4"
      },
      "source": [
        "Run the code below to create and training data from `Default`. We will use the \"test\" dataset at the end to get a final evaluation of our best model's accuracy."
      ]
    },
    {
      "cell_type": "code",
      "execution_count": 29,
      "id": "1d725ca5-77de-4025-8ce5-f8e0fef30992",
      "metadata": {
        "id": "1d725ca5-77de-4025-8ce5-f8e0fef30992"
      },
      "outputs": [],
      "source": [
        "# splitting data into test and train data sets with 90% going into the training data set\n",
        "Default_split = initial_split(Default, prop = 0.90, strata = default)\n",
        "\n",
        "Default_train = training(Default_split)\n",
        "Default_test = testing(Default_split)"
      ]
    },
    {
      "cell_type": "markdown",
      "id": "911248f2-2aff-41ce-a124-b455a49f3062",
      "metadata": {
        "id": "911248f2-2aff-41ce-a124-b455a49f3062"
      },
      "source": [
        "Create a logistic regression model called `mod`. Set the engine to `glm` and the mode to `classification`."
      ]
    },
    {
      "cell_type": "code",
      "execution_count": 30,
      "id": "b46b8b34-9849-4db2-91a3-027869b944a9",
      "metadata": {
        "id": "b46b8b34-9849-4db2-91a3-027869b944a9"
      },
      "outputs": [],
      "source": [
        "# setting the the model to be logistic regression\n",
        "mod = logistic_reg(mode = \"classification\", engine = \"glm\")"
      ]
    },
    {
      "cell_type": "markdown",
      "id": "5c8a45b3-fba6-404e-940c-9b0a50485bab",
      "metadata": {
        "id": "5c8a45b3-fba6-404e-940c-9b0a50485bab"
      },
      "source": [
        "Our data is imbalanced. As such, a naive model that *always* predicts a customer to **not default** would be correct quite often. Let's start by calculating the \"accuracy\" of a naive model. This will be the baseline accuracy by which we evaluate other models."
      ]
    },
    {
      "cell_type": "code",
      "execution_count": 8,
      "id": "2131ba72-af1e-46ac-b62e-fa694d36b7aa",
      "metadata": {
        "id": "2131ba72-af1e-46ac-b62e-fa694d36b7aa",
        "colab": {
          "base_uri": "https://localhost:8080/",
          "height": 129
        },
        "outputId": "be418a9e-451b-49ec-f28d-b78669e62d24"
      },
      "outputs": [
        {
          "output_type": "display_data",
          "data": {
            "text/html": [
              "<table class=\"dataframe\">\n",
              "<caption>A tibble: 1 × 3</caption>\n",
              "<thead>\n",
              "\t<tr><th scope=col>.metric</th><th scope=col>.estimator</th><th scope=col>.estimate</th></tr>\n",
              "\t<tr><th scope=col>&lt;chr&gt;</th><th scope=col>&lt;chr&gt;</th><th scope=col>&lt;dbl&gt;</th></tr>\n",
              "</thead>\n",
              "<tbody>\n",
              "\t<tr><td>accuracy</td><td>binary</td><td>0.9655556</td></tr>\n",
              "</tbody>\n",
              "</table>\n"
            ],
            "text/markdown": "\nA tibble: 1 × 3\n\n| .metric &lt;chr&gt; | .estimator &lt;chr&gt; | .estimate &lt;dbl&gt; |\n|---|---|---|\n| accuracy | binary | 0.9655556 |\n\n",
            "text/latex": "A tibble: 1 × 3\n\\begin{tabular}{lll}\n .metric & .estimator & .estimate\\\\\n <chr> & <chr> & <dbl>\\\\\n\\hline\n\t accuracy & binary & 0.9655556\\\\\n\\end{tabular}\n",
            "text/plain": [
              "  .metric  .estimator .estimate\n",
              "1 accuracy binary     0.9655556"
            ]
          },
          "metadata": {}
        }
      ],
      "source": [
        "# This code calculates the accuracy of a model that always predicts default to be \"No\"\n",
        "\n",
        "Default_train |>\n",
        "    mutate(.pred_naive = factor('No', levels = c('No', 'Yes'))) |>\n",
        "    accuracy(truth = default, .pred_naive)\n",
        "\n",
        "# The naive model is 96.55556% accurate"
      ]
    },
    {
      "cell_type": "markdown",
      "id": "ca30f2d1-9784-4142-a7bd-5ddcb14de08b",
      "metadata": {
        "id": "ca30f2d1-9784-4142-a7bd-5ddcb14de08b"
      },
      "source": [
        "Let's use k-fold cross validation to evaluate the performance of a model where the outcome is `default` and the predictors are `income` and `balance`."
      ]
    },
    {
      "cell_type": "markdown",
      "id": "b5b639ce-a03c-48af-84d4-8f9e4d6d7ee4",
      "metadata": {
        "id": "b5b639ce-a03c-48af-84d4-8f9e4d6d7ee4"
      },
      "source": [
        "To start, use `vfold_cv` to generate 10 validation folds (i.e. set the `v` variable to 10). Set the `strata` argument to `default` so we preserve the distribution of `default` values in each fold.\n",
        "\n",
        "Creat your folds below and use `glimpse` to look at the output table. Call your output folds tables \"folds\"."
      ]
    },
    {
      "cell_type": "code",
      "execution_count": 31,
      "id": "2a53ed42-03d9-4840-a702-d8f44f74e773",
      "metadata": {
        "id": "2a53ed42-03d9-4840-a702-d8f44f74e773",
        "colab": {
          "base_uri": "https://localhost:8080/"
        },
        "outputId": "d7847835-c55f-4211-83b3-6a4094d9fc1f"
      },
      "outputs": [
        {
          "output_type": "stream",
          "name": "stdout",
          "text": [
            "Rows: 10\n",
            "Columns: 2\n",
            "$ splits \u001b[3m\u001b[90m<list>\u001b[39m\u001b[23m [<vfold_split[8100 x 900 x 9000 x 4]>]\u001b[90m, \u001b[39m[<vfold_split[8100 x 9…\n",
            "$ id     \u001b[3m\u001b[90m<chr>\u001b[39m\u001b[23m \"Fold01\"\u001b[90m, \u001b[39m\"Fold02\"\u001b[90m, \u001b[39m\"Fold03\"\u001b[90m, \u001b[39m\"Fold04\"\u001b[90m, \u001b[39m\"Fold05\"\u001b[90m, \u001b[39m\"Fold06\"\u001b[90m, \u001b[39m\"Fo…\n"
          ]
        }
      ],
      "source": [
        "folds = vfold_cv(Default_train, v = 10, strata = default)\n",
        "\n",
        "folds |> glimpse()"
      ]
    },
    {
      "cell_type": "markdown",
      "id": "4bccb76b-ba91-48d6-95ec-88c679d91f2d",
      "metadata": {
        "id": "4bccb76b-ba91-48d6-95ec-88c679d91f2d"
      },
      "source": [
        "The code below fits a model to each of your 10 folds. `collect_metrics` finds the average of evaluation metrics for each of your ten models."
      ]
    },
    {
      "cell_type": "code",
      "execution_count": 32,
      "id": "4b743466-c50b-491c-b476-0553cafa043d",
      "metadata": {
        "id": "4b743466-c50b-491c-b476-0553cafa043d",
        "colab": {
          "base_uri": "https://localhost:8080/",
          "height": 192
        },
        "outputId": "e13c59c4-b829-496d-d584-3b7d6a47ab67"
      },
      "outputs": [
        {
          "output_type": "display_data",
          "data": {
            "text/html": [
              "<table class=\"dataframe\">\n",
              "<caption>A tibble: 3 × 6</caption>\n",
              "<thead>\n",
              "\t<tr><th scope=col>.metric</th><th scope=col>.estimator</th><th scope=col>mean</th><th scope=col>n</th><th scope=col>std_err</th><th scope=col>.config</th></tr>\n",
              "\t<tr><th scope=col>&lt;chr&gt;</th><th scope=col>&lt;chr&gt;</th><th scope=col>&lt;dbl&gt;</th><th scope=col>&lt;int&gt;</th><th scope=col>&lt;dbl&gt;</th><th scope=col>&lt;chr&gt;</th></tr>\n",
              "</thead>\n",
              "<tbody>\n",
              "\t<tr><td>accuracy   </td><td>binary</td><td>0.97388889</td><td>10</td><td>0.001520324</td><td>Preprocessor1_Model1</td></tr>\n",
              "\t<tr><td>brier_class</td><td>binary</td><td>0.02153662</td><td>10</td><td>0.001072754</td><td>Preprocessor1_Model1</td></tr>\n",
              "\t<tr><td>roc_auc    </td><td>binary</td><td>0.94777297</td><td>10</td><td>0.003540334</td><td>Preprocessor1_Model1</td></tr>\n",
              "</tbody>\n",
              "</table>\n"
            ],
            "text/markdown": "\nA tibble: 3 × 6\n\n| .metric &lt;chr&gt; | .estimator &lt;chr&gt; | mean &lt;dbl&gt; | n &lt;int&gt; | std_err &lt;dbl&gt; | .config &lt;chr&gt; |\n|---|---|---|---|---|---|\n| accuracy    | binary | 0.97388889 | 10 | 0.001520324 | Preprocessor1_Model1 |\n| brier_class | binary | 0.02153662 | 10 | 0.001072754 | Preprocessor1_Model1 |\n| roc_auc     | binary | 0.94777297 | 10 | 0.003540334 | Preprocessor1_Model1 |\n\n",
            "text/latex": "A tibble: 3 × 6\n\\begin{tabular}{llllll}\n .metric & .estimator & mean & n & std\\_err & .config\\\\\n <chr> & <chr> & <dbl> & <int> & <dbl> & <chr>\\\\\n\\hline\n\t accuracy    & binary & 0.97388889 & 10 & 0.001520324 & Preprocessor1\\_Model1\\\\\n\t brier\\_class & binary & 0.02153662 & 10 & 0.001072754 & Preprocessor1\\_Model1\\\\\n\t roc\\_auc     & binary & 0.94777297 & 10 & 0.003540334 & Preprocessor1\\_Model1\\\\\n\\end{tabular}\n",
            "text/plain": [
              "  .metric     .estimator mean       n  std_err     .config             \n",
              "1 accuracy    binary     0.97388889 10 0.001520324 Preprocessor1_Model1\n",
              "2 brier_class binary     0.02153662 10 0.001072754 Preprocessor1_Model1\n",
              "3 roc_auc     binary     0.94777297 10 0.003540334 Preprocessor1_Model1"
            ]
          },
          "metadata": {}
        }
      ],
      "source": [
        "mod |>\n",
        "    fit_resamples(default ~ income + balance, folds) |>\n",
        "    collect_metrics()"
      ]
    },
    {
      "cell_type": "markdown",
      "id": "1f4e0354-98cc-4187-9b8b-34ec5dd54516",
      "metadata": {
        "id": "1f4e0354-98cc-4187-9b8b-34ec5dd54516"
      },
      "source": [
        "❓How does the model accuracy compare to the naive model from above?\n",
        "\n",
        "**Answer: The logistic regression model has a slightly higher accuracy at 97.39% over the naive model's 96.56% accuracy. The ROC/AUC of the logistic regression model being 0.9477 is an excellent indicator (1 is perfect) our model is better at identifing between defaulters and non compared to the naive model always assuming no default.**"
      ]
    },
    {
      "cell_type": "markdown",
      "id": "fa0d203f-62cd-4543-9018-9f7ba0380320",
      "metadata": {
        "id": "fa0d203f-62cd-4543-9018-9f7ba0380320"
      },
      "source": [
        "Complete the cell below to evaluate a model also includes the `student` variable as as predictor.\n",
        "1. use `default ~ income + balance + student` as the formula,\n",
        "2. encode your `student` variable with `step_dummy`, and,\n",
        "3. don't forget to `prep` your recipe!"
      ]
    },
    {
      "cell_type": "code",
      "source": [
        "rec = recipe(default ~ income + balance + student, data = Default_train) |>\n",
        "  step_dummy(student) #|>\n",
        "  #prep() # the function below preps for me according to the explanation of the error adding this prep line threw\n",
        "\n",
        "mod |>\n",
        "    fit_resamples(rec, folds) |>\n",
        "    collect_metrics()"
      ],
      "metadata": {
        "colab": {
          "base_uri": "https://localhost:8080/",
          "height": 192
        },
        "id": "BD8z4lsYTL2p",
        "outputId": "0999e3d6-a089-4325-de5d-c7e105feb84d"
      },
      "id": "BD8z4lsYTL2p",
      "execution_count": 33,
      "outputs": [
        {
          "output_type": "display_data",
          "data": {
            "text/html": [
              "<table class=\"dataframe\">\n",
              "<caption>A tibble: 3 × 6</caption>\n",
              "<thead>\n",
              "\t<tr><th scope=col>.metric</th><th scope=col>.estimator</th><th scope=col>mean</th><th scope=col>n</th><th scope=col>std_err</th><th scope=col>.config</th></tr>\n",
              "\t<tr><th scope=col>&lt;chr&gt;</th><th scope=col>&lt;chr&gt;</th><th scope=col>&lt;dbl&gt;</th><th scope=col>&lt;int&gt;</th><th scope=col>&lt;dbl&gt;</th><th scope=col>&lt;chr&gt;</th></tr>\n",
              "</thead>\n",
              "<tbody>\n",
              "\t<tr><td>accuracy   </td><td>binary</td><td>0.97333333</td><td>10</td><td>0.001385799</td><td>Preprocessor1_Model1</td></tr>\n",
              "\t<tr><td>brier_class</td><td>binary</td><td>0.02144392</td><td>10</td><td>0.001070414</td><td>Preprocessor1_Model1</td></tr>\n",
              "\t<tr><td>roc_auc    </td><td>binary</td><td>0.94825489</td><td>10</td><td>0.003787814</td><td>Preprocessor1_Model1</td></tr>\n",
              "</tbody>\n",
              "</table>\n"
            ],
            "text/markdown": "\nA tibble: 3 × 6\n\n| .metric &lt;chr&gt; | .estimator &lt;chr&gt; | mean &lt;dbl&gt; | n &lt;int&gt; | std_err &lt;dbl&gt; | .config &lt;chr&gt; |\n|---|---|---|---|---|---|\n| accuracy    | binary | 0.97333333 | 10 | 0.001385799 | Preprocessor1_Model1 |\n| brier_class | binary | 0.02144392 | 10 | 0.001070414 | Preprocessor1_Model1 |\n| roc_auc     | binary | 0.94825489 | 10 | 0.003787814 | Preprocessor1_Model1 |\n\n",
            "text/latex": "A tibble: 3 × 6\n\\begin{tabular}{llllll}\n .metric & .estimator & mean & n & std\\_err & .config\\\\\n <chr> & <chr> & <dbl> & <int> & <dbl> & <chr>\\\\\n\\hline\n\t accuracy    & binary & 0.97333333 & 10 & 0.001385799 & Preprocessor1\\_Model1\\\\\n\t brier\\_class & binary & 0.02144392 & 10 & 0.001070414 & Preprocessor1\\_Model1\\\\\n\t roc\\_auc     & binary & 0.94825489 & 10 & 0.003787814 & Preprocessor1\\_Model1\\\\\n\\end{tabular}\n",
            "text/plain": [
              "  .metric     .estimator mean       n  std_err     .config             \n",
              "1 accuracy    binary     0.97333333 10 0.001385799 Preprocessor1_Model1\n",
              "2 brier_class binary     0.02144392 10 0.001070414 Preprocessor1_Model1\n",
              "3 roc_auc     binary     0.94825489 10 0.003787814 Preprocessor1_Model1"
            ]
          },
          "metadata": {}
        }
      ]
    },
    {
      "cell_type": "markdown",
      "id": "5f06b110-6161-40af-816b-866097d83aad",
      "metadata": {
        "id": "5f06b110-6161-40af-816b-866097d83aad"
      },
      "source": [
        "❓Does it appear that the model that includes `student` improves upon the first model with only `income` and `balance` as predictors?\n",
        "\n",
        "**Adding `student` to the model decreases the accuracy slightly to 97.33% versus 97.39% without `student`. This difference does not seem to be meaningful. The ROC/AUC increases slightly, but only because my code is reporting many decimal places. It is in essence unchanged. Most likely the status of `student` is not a meaningful indicator if the person will default on their loan or not.**"
      ]
    },
    {
      "cell_type": "markdown",
      "id": "7e15fcb1-cb13-4285-a264-6531c8a1ed17",
      "metadata": {
        "id": "7e15fcb1-cb13-4285-a264-6531c8a1ed17"
      },
      "source": [
        "Finally, estimate the accuracy of an `default ~ income + balance` model on the test data, `Default_test`.\n",
        "\n",
        "❓Does our model outperform a naive model?\n",
        "\n",
        "**Answer: The model when applied to the test set for predictions is still performing better at 97.30% accuracy compared to the naive model at 96.56% accuracy. However, this is still a small increase overall.**\n",
        "\n",
        "Additional note: I started to explore ROC/AUC in this assignment and assumed I would continue the comparison here. However, using the test data and got unexpected results (much lower than 0.5 which is worse than straight guessing) so I have removed that final analysis from this assignment and am continuing to explore it on my own. My initial thought is the test/train split of yes and no is not balanced, which is to be expected with so few yes entries."
      ]
    },
    {
      "cell_type": "code",
      "execution_count": 35,
      "id": "12a41099-6a0e-4858-8cd2-fea3f1d2398d",
      "metadata": {
        "id": "12a41099-6a0e-4858-8cd2-fea3f1d2398d",
        "colab": {
          "base_uri": "https://localhost:8080/",
          "height": 160
        },
        "outputId": "ffa97eb6-2bb5-4bca-e231-a0766b69b216"
      },
      "outputs": [
        {
          "output_type": "display_data",
          "data": {
            "text/html": [
              "<table class=\"dataframe\">\n",
              "<caption>A tibble: 2 × 3</caption>\n",
              "<thead>\n",
              "\t<tr><th scope=col>.metric</th><th scope=col>.estimator</th><th scope=col>.estimate</th></tr>\n",
              "\t<tr><th scope=col>&lt;chr&gt;</th><th scope=col>&lt;chr&gt;</th><th scope=col>&lt;dbl&gt;</th></tr>\n",
              "</thead>\n",
              "<tbody>\n",
              "\t<tr><td>accuracy</td><td>binary</td><td>0.97300</td></tr>\n",
              "\t<tr><td>kap     </td><td>binary</td><td>0.33208</td></tr>\n",
              "</tbody>\n",
              "</table>\n"
            ],
            "text/markdown": "\nA tibble: 2 × 3\n\n| .metric &lt;chr&gt; | .estimator &lt;chr&gt; | .estimate &lt;dbl&gt; |\n|---|---|---|\n| accuracy | binary | 0.97300 |\n| kap      | binary | 0.33208 |\n\n",
            "text/latex": "A tibble: 2 × 3\n\\begin{tabular}{lll}\n .metric & .estimator & .estimate\\\\\n <chr> & <chr> & <dbl>\\\\\n\\hline\n\t accuracy & binary & 0.97300\\\\\n\t kap      & binary & 0.33208\\\\\n\\end{tabular}\n",
            "text/plain": [
              "  .metric  .estimator .estimate\n",
              "1 accuracy binary     0.97300  \n",
              "2 kap      binary     0.33208  "
            ]
          },
          "metadata": {}
        }
      ],
      "source": [
        "# finding the fit using the better model and the training data\n",
        "mod_fit = mod |>\n",
        "  fit(default ~ income + balance, data = Default_train)\n",
        "\n",
        "# predicting on the test set\n",
        "predictions = predict(mod_fit, new_data = Default_test, type = \"class\") |>\n",
        "  bind_cols(Default_test)\n",
        "\n",
        "# how accurate?\n",
        "metrics(predictions, truth = default, estimate = .pred_class)\n"
      ]
    },
    {
      "cell_type": "code",
      "source": [],
      "metadata": {
        "id": "rPi8n_EtrURd"
      },
      "id": "rPi8n_EtrURd",
      "execution_count": null,
      "outputs": []
    }
  ],
  "metadata": {
    "kernelspec": {
      "display_name": "R",
      "language": "R",
      "name": "ir"
    },
    "language_info": {
      "codemirror_mode": "r",
      "file_extension": ".r",
      "mimetype": "text/x-r-source",
      "name": "R",
      "pygments_lexer": "r",
      "version": "4.2.3"
    },
    "colab": {
      "provenance": []
    }
  },
  "nbformat": 4,
  "nbformat_minor": 5
}